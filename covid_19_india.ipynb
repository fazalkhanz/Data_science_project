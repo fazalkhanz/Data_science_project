{
 "cells": [
  {
   "cell_type": "code",
   "execution_count": 45,
   "metadata": {},
   "outputs": [],
   "source": [
    "import os\n",
    "import requests\n",
    "import json\n",
    "import urllib3\n",
    "import pandas as pd\n",
    "import jupytab"
   ]
  },
  {
   "cell_type": "code",
   "execution_count": 2,
   "metadata": {},
   "outputs": [
    {
     "name": "stdout",
     "output_type": "stream",
     "text": [
      "No HTTP proxy defined\n",
      "No HTTPS proxy defined\n"
     ]
    }
   ],
   "source": [
    "http_proxy  = os.environ.get('HTTP_PROXY')\n",
    "https_proxy = os.environ.get('HTTPS_PROXY')\n",
    "\n",
    "urllib3.disable_warnings(urllib3.exceptions.InsecureRequestWarning)\n",
    "proxies = {}\n",
    "\n",
    "if http_proxy:\n",
    "    proxies[\"http\"] = http_proxy\n",
    "    print(\"HTTP proxy defined as {}\".format(http_proxy))\n",
    "else:\n",
    "    print(\"No HTTP proxy defined\")\n",
    "    \n",
    "if https_proxy:\n",
    "    proxies[\"https\"] = https_proxy\n",
    "    print(\"HTTPS proxy defined as {}\".format(http_proxy))\n",
    "else:\n",
    "    print(\"No HTTPS proxy defined\")\n"
   ]
  },
  {
   "cell_type": "code",
   "execution_count": 38,
   "metadata": {},
   "outputs": [],
   "source": [
    "def covid_refresh():\n",
    "    try:\n",
    "        states = requests.get(url='https://api.covid19india.org/districts_daily.json',\n",
    "                                      proxies=proxies,\n",
    "                                      verify=False)\n",
    "        states=states.json()[\"districtsDaily\"]\n",
    "        \n",
    "        \n",
    "    except Exception as e:\n",
    "        states_json = [{'icao24': \"Khan error -\"+str(e)}]\n",
    "    \n",
    "    df=pd.DataFrame(columns=['State','district','active','confirmed','deceased','recovered','date'])\n",
    "    \n",
    "    for (k1,v1) in states.items():\n",
    "            district=v1\n",
    "            for (k2,v2) in district.items():\n",
    "                for val in v2:\n",
    "                    df=df.append({'State':k1,'district':k2,'active':int(val['active']),'confirmed':int(val['confirmed'])\n",
    "                               ,'deceased':int(val['deceased']),'recovered':int(val['recovered']),'date':val['date']},ignore_index=True)\n",
    "    \n",
    "    return df\n",
    "\n",
    "    "
   ]
  },
  {
   "cell_type": "code",
   "execution_count": 39,
   "metadata": {},
   "outputs": [],
   "source": [
    "covid_19_df = covid_refresh()"
   ]
  },
  {
   "cell_type": "code",
   "execution_count": 42,
   "metadata": {},
   "outputs": [],
   "source": [
    "tables=jupytab.Tables()\n",
    "tables['covid_19_india']=jupytab.DataFrameTable('covid_19_india', dataframe=covid_19_df, refresh_method=covid_refresh)"
   ]
  },
  {
   "cell_type": "code",
   "execution_count": 43,
   "metadata": {},
   "outputs": [
    {
     "name": "stdout",
     "output_type": "stream",
     "text": [
      "[{\"id\": \"covid_19_india\", \"alias\": \"covid_19_india\", \"columns\": [{\"id\": \"State\", \"dataType\": \"string\"}, {\"id\": \"district\", \"dataType\": \"string\"}, {\"id\": \"active\", \"dataType\": \"string\"}, {\"id\": \"confirmed\", \"dataType\": \"string\"}, {\"id\": \"deceased\", \"dataType\": \"string\"}, {\"id\": \"recovered\", \"dataType\": \"string\"}, {\"id\": \"date\", \"dataType\": \"string\"}]}]\n"
     ]
    }
   ],
   "source": [
    "# GET /schema\n",
    "tables.render_schema()"
   ]
  },
  {
   "cell_type": "code",
   "execution_count": 44,
   "metadata": {},
   "outputs": [
    {
     "ename": "NameError",
     "evalue": "name 'REQUEST' is not defined",
     "output_type": "error",
     "traceback": [
      "\u001b[1;31m---------------------------------------------------------------------------\u001b[0m",
      "\u001b[1;31mNameError\u001b[0m                                 Traceback (most recent call last)",
      "\u001b[1;32m<ipython-input-44-c5e1a6b1cfcd>\u001b[0m in \u001b[0;36m<module>\u001b[1;34m\u001b[0m\n\u001b[0;32m      1\u001b[0m \u001b[1;31m# GET /data\u001b[0m\u001b[1;33m\u001b[0m\u001b[1;33m\u001b[0m\u001b[1;33m\u001b[0m\u001b[0m\n\u001b[1;32m----> 2\u001b[1;33m \u001b[0mtables\u001b[0m\u001b[1;33m.\u001b[0m\u001b[0mrender_data\u001b[0m\u001b[1;33m(\u001b[0m\u001b[0mREQUEST\u001b[0m\u001b[1;33m)\u001b[0m\u001b[1;33m\u001b[0m\u001b[1;33m\u001b[0m\u001b[0m\n\u001b[0m",
      "\u001b[1;31mNameError\u001b[0m: name 'REQUEST' is not defined"
     ]
    }
   ],
   "source": [
    "# GET /data\n",
    "tables.render_data(REQUEST)"
   ]
  }
 ],
 "metadata": {
  "kernelspec": {
   "display_name": "Python 3",
   "language": "python",
   "name": "python3"
  },
  "language_info": {
   "codemirror_mode": {
    "name": "ipython",
    "version": 3
   },
   "file_extension": ".py",
   "mimetype": "text/x-python",
   "name": "python",
   "nbconvert_exporter": "python",
   "pygments_lexer": "ipython3",
   "version": "3.7.7"
  }
 },
 "nbformat": 4,
 "nbformat_minor": 4
}
